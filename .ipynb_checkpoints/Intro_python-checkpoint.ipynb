{
 "cells": [
  {
   "cell_type": "markdown",
   "id": "125b3f65",
   "metadata": {},
   "source": [
    "# Comentario en markdown"
   ]
  },
  {
   "cell_type": "code",
   "execution_count": 6,
   "id": "41eafae5",
   "metadata": {},
   "outputs": [
    {
     "name": "stdout",
     "output_type": "stream",
     "text": [
      "este es un print\n"
     ]
    }
   ],
   "source": [
    "\"\"\"Comentario de multiples \n",
    "lineas\"\"\" \n",
    "\n",
    "# Comentario en python de una linea\n",
    "\n",
    "# imprimir\n",
    "print(\"este es un print\")"
   ]
  },
  {
   "cell_type": "markdown",
   "id": "a1c046f1",
   "metadata": {},
   "source": [
    "# Variables"
   ]
  },
  {
   "cell_type": "code",
   "execution_count": 53,
   "id": "81dc2f94",
   "metadata": {},
   "outputs": [
    {
     "data": {
      "text/plain": [
       "complex"
      ]
     },
     "execution_count": 53,
     "metadata": {},
     "output_type": "execute_result"
    }
   ],
   "source": [
    "# entero\n",
    "entero1 = 1\n",
    "entero2 = -234235\n",
    "\n",
    "# decimal\n",
    "float1 = 2.8  \n",
    "float2 = -2432.324\n",
    "\n",
    "# Complejo\n",
    "complejo1 = 1j\n",
    "\n",
    "# String\n",
    "string1 = \"hola\"\n",
    "string2 = '23423'\n",
    "\n",
    "# Booleanos\n",
    "booleano1 = True\n",
    "booleano2 = False\n",
    "\n",
    "# Ver el tipo de variable\n",
    "type(complejo1)\n"
   ]
  },
  {
   "cell_type": "code",
   "execution_count": 104,
   "id": "2356ba3a",
   "metadata": {},
   "outputs": [
    {
     "data": {
      "text/plain": [
       "'h'"
      ]
     },
     "execution_count": 104,
     "metadata": {},
     "output_type": "execute_result"
    }
   ],
   "source": [
    "string1 = string1.replace('o', 'u')\n",
    "string1[0]"
   ]
  },
  {
   "cell_type": "markdown",
   "id": "40827c05",
   "metadata": {},
   "source": [
    "# Casting"
   ]
  },
  {
   "cell_type": "code",
   "execution_count": 9,
   "id": "93b192da",
   "metadata": {},
   "outputs": [
    {
     "name": "stdout",
     "output_type": "stream",
     "text": [
      "la variable es de tipo <class 'str'>\n",
      "la variable ahora es de tipo <class 'int'>\n",
      "la variable ahora es de tipo <class 'float'>\n",
      "la variable ahora es de tipo <class 'str'>\n"
     ]
    }
   ],
   "source": [
    "# para pasar de un tipo de dato a otro\n",
    "string1 = '234'\n",
    "print(f'la variable es de tipo {type(string1)}')\n",
    "\n",
    "# Pasar a entero:\n",
    "string1 = int(string1)\n",
    "print(f'la variable ahora es de tipo {type(string1)}')\n",
    "\n",
    "# Pasar a decimal:\n",
    "string1 = float(string1)\n",
    "print(f'la variable ahora es de tipo {type(string1)}')\n",
    "\n",
    "# Pasar a string:\n",
    "string1 = str(string1)\n",
    "print(f'la variable ahora es de tipo {type(string1)}')"
   ]
  },
  {
   "cell_type": "markdown",
   "id": "41fce347",
   "metadata": {},
   "source": [
    "# Operaciones aritmeticas"
   ]
  },
  {
   "cell_type": "code",
   "execution_count": 54,
   "id": "be0911c6",
   "metadata": {},
   "outputs": [
    {
     "name": "stdout",
     "output_type": "stream",
     "text": [
      "diga un numero: 3\n",
      "diga otro numero: 4\n",
      "la suma de 3 y 4 es 7\n",
      "la resta de 3 y 4 es -1\n",
      "la multiplicacion de 3 y 4 es 12\n",
      "la division de 3 y 4 es 0.75\n",
      "el modulo entre 2 de 3 es 1\n",
      "la potencia de 3 en base 2 es 9\n",
      "la division entera de 3 y 4 es 0\n"
     ]
    }
   ],
   "source": [
    "# Con input podemos solicitar que la persona digite un valor por consola\n",
    "numero1 = int(input('diga un numero: '))\n",
    "numero2 = int(input('diga otro numero: '))\n",
    "\n",
    "# Suma:\n",
    "suma = numero1 + numero2\n",
    "print(f'la suma de {numero1} y {numero2} es {suma}')\n",
    "\n",
    "# Resta:\n",
    "resta = numero1 - numero2\n",
    "print(f'la resta de {numero1} y {numero2} es {resta}')\n",
    "\n",
    "# Multiplicación:\n",
    "multiplicacion = numero1 * numero2\n",
    "print(f'la multiplicacion de {numero1} y {numero2} es {multiplicacion}')\n",
    "\n",
    "# Division:\n",
    "division = numero1 / numero2\n",
    "print(f'la division de {numero1} y {numero2} es {division}')\n",
    "\n",
    "# modulo:\n",
    "modulo2 = numero1 % 2\n",
    "print(f'el modulo entre 2 de {numero1} es {modulo2}')\n",
    "\n",
    "# Potencia\n",
    "potencia = numero1 ** 2\n",
    "print(f'la potencia de {numero1} en base 2 es {potencia}')\n",
    "\n",
    "# Division entera:\n",
    "division_entera = numero1 // numero2\n",
    "print(f'la division entera de {numero1} y {numero2} es {division_entera}')"
   ]
  },
  {
   "cell_type": "markdown",
   "id": "474bafe1",
   "metadata": {},
   "source": [
    "# Operaciones logicas (retornaran un booleano)"
   ]
  },
  {
   "cell_type": "code",
   "execution_count": 55,
   "id": "45af8a51",
   "metadata": {},
   "outputs": [
    {
     "name": "stdout",
     "output_type": "stream",
     "text": [
      "diga un numero: 3\n",
      "diga otro numero: 4\n",
      "la afirmacion 3 es igual a 4 es False\n",
      "la afirmacion 3 es mayor a 4 es False\n",
      "la afirmacion 3 es menor a 4 es True\n",
      "la afirmacion 3 es menor a 4 y 3 es positivo es True\n",
      "la afirmacion 3 es menor a 4 o 3 es positivo es True\n",
      " False\n"
     ]
    }
   ],
   "source": [
    "# pedir 2 numeros\n",
    "numero1 = int(input('diga un numero: '))\n",
    "numero2 = int(input('diga otro numero: '))\n",
    "\n",
    "# comparar si dos numeros son iguales:\n",
    "comparacion = numero1 == numero2\n",
    "print(f'la afirmacion {numero1} es igual a {numero2} es {comparacion}')\n",
    "\n",
    "# mayor (>) y mayor o igual (>=):\n",
    "comparacion = numero1 > numero2\n",
    "print(f'la afirmacion {numero1} es mayor a {numero2} es {comparacion}')\n",
    "\n",
    "# menor (<) y menor o igual (<=):\n",
    "comparacion = numero1 < numero2\n",
    "print(f'la afirmacion {numero1} es menor a {numero2} es {comparacion}')\n",
    "\n",
    "\"\"\"Tambien podemos complementr usando operaciones logicas\"\"\"\n",
    "# operacion and:\n",
    "# Se deben cumplir ambas\n",
    "comparacion = numero1 < numero2 and numero1 > 0\n",
    "print(f'la afirmacion {numero1} es menor a {numero2} y {numero1} es positivo es {comparacion}')\n",
    "\n",
    "# operacion or:\n",
    "# Se deben cumplir una\n",
    "comparacion = numero1 < numero2 or numero1 > 0\n",
    "print(f'la afirmacion {numero1} es menor a {numero2} o {numero1} es positivo es {comparacion}')\n",
    "\n",
    "# operacion not\n",
    "comparacion = not(numero1 < numero2 or numero1 > 0)\n",
    "print(f' {comparacion}')"
   ]
  },
  {
   "cell_type": "markdown",
   "id": "dbad5b54",
   "metadata": {},
   "source": [
    "# Condiciones if - else"
   ]
  },
  {
   "cell_type": "code",
   "execution_count": 82,
   "id": "47e58414",
   "metadata": {},
   "outputs": [
    {
     "name": "stdout",
     "output_type": "stream",
     "text": [
      "diga un numero: 3\n",
      " el numero 3 es positivo\n"
     ]
    }
   ],
   "source": [
    "numero1 = int(input('diga un numero: '))\n",
    "\n",
    "# if\n",
    "if (numero1 > 0):\n",
    "    print(f' el numero {numero1} es positivo')\n",
    "# else if\n",
    "elif numero1 < 0:\n",
    "    print(f' el numero {numero1} es negativo')\n",
    "# else\n",
    "else:\n",
    "    print(f'el numero {numero1} es 0')\n"
   ]
  },
  {
   "cell_type": "markdown",
   "id": "f540dd86",
   "metadata": {},
   "source": [
    "# Listas, arreglos, diccionarios"
   ]
  },
  {
   "cell_type": "code",
   "execution_count": 76,
   "id": "b090611b",
   "metadata": {},
   "outputs": [
    {
     "name": "stdout",
     "output_type": "stream",
     "text": [
      "La lista tiene los items: [1, 'hola', True, 4]\n",
      "La lista tiene 4 items\n",
      "en la primera casilla la lista tiene el item: 1\n",
      "en la segunda casilla la lista tiene el item: hola\n",
      "la lista ahora es [1, 'nuevo item', 'hola', True, 4]\n",
      "la lista ahora es [1, 'nuevo item', 'hola', True, 4, 'nuevo item2']\n"
     ]
    }
   ],
   "source": [
    "lista = []\n",
    "# lista de string:\n",
    "lista_strings = [\"esta\", \"es\", \"una\", \"lista\"]\n",
    "# lista de numeros:\n",
    "lista_int = [[1,2,3,4,5,6],\n",
    "             [1,2,3,4,5,5]]\n",
    "# lista de multiples tipos de datos\n",
    "lista = [1,\"hola\", True, 4]\n",
    "\n",
    "# tambien podemos tener tuplas:\n",
    "# Las tuplas son listas con valores no variables\n",
    "tupla1 = (1,2,3,4)\n",
    "# Set (Valores unicos)\n",
    "set1 = {1,2,3,4,4,4,5} \n",
    "\n",
    "# Para ver la lista\n",
    "print(f\"La lista tiene los items: {lista}\")\n",
    "\n",
    "# ver la longitud de la lista (len)\n",
    "print(f\"La lista tiene {len(lista)} items\")\n",
    "\n",
    "# indexar\n",
    "print(f\"en la primera casilla la lista tiene el item: {lista[0]}\")\n",
    "print(f\"en la segunda casilla la lista tiene el item: {lista[1]}\")\n",
    "\n",
    "# insertar por index:\n",
    "lista.insert(1, \"nuevo item\")\n",
    "print(f'la lista ahora es {lista}')\n",
    "\n",
    "# añadir item al final:\n",
    "lista.append(\"nuevo item2\")\n",
    "print(f'la lista ahora es {lista}')"
   ]
  },
  {
   "cell_type": "code",
   "execution_count": 75,
   "id": "41a5929b",
   "metadata": {},
   "outputs": [
    {
     "data": {
      "text/plain": [
       "5"
      ]
     },
     "execution_count": 75,
     "metadata": {},
     "output_type": "execute_result"
    }
   ],
   "source": [
    "lista_int[1][5]"
   ]
  },
  {
   "cell_type": "markdown",
   "id": "a3981b02",
   "metadata": {},
   "source": [
    "# Diccionarios"
   ]
  },
  {
   "cell_type": "code",
   "execution_count": 77,
   "id": "9094fb56",
   "metadata": {},
   "outputs": [
    {
     "name": "stdout",
     "output_type": "stream",
     "text": [
      "el diccionario tiene los items: {'personas': ['David', 'Andrea'], 'clase': 'data science', 'año': 2021}\n",
      "el diccionario en personas tiene a ['David', 'Andrea'] \n"
     ]
    }
   ],
   "source": [
    "diccionario = {\n",
    "  \"personas\": ['David','Andrea'],\n",
    "  \"clase\": \"data science\",\n",
    "  \"año\": 2021\n",
    "}\n",
    "\n",
    "# imprimir\n",
    "print(f\"el diccionario tiene los items: {diccionario}\")\n",
    "\n",
    "# indexar\n",
    "print(f'el diccionario en personas tiene a {diccionario[\"personas\"]} ')"
   ]
  },
  {
   "cell_type": "markdown",
   "id": "1a0de610",
   "metadata": {},
   "source": [
    "# Foor loop"
   ]
  },
  {
   "cell_type": "code",
   "execution_count": 96,
   "id": "7825eda7",
   "metadata": {},
   "outputs": [
    {
     "name": "stdout",
     "output_type": "stream",
     "text": [
      "hola\n",
      "como\n",
      "estas\n",
      "-------\n",
      "hola\n",
      "como\n",
      "estas\n"
     ]
    }
   ],
   "source": [
    "for i in range(0,10):\n",
    "    pass\n",
    "    #print(i)\n",
    "\n",
    "lista = list(range(0,10))\n",
    "lista = [\"hola\", \"como\", \"estas\"]\n",
    "\n",
    "# Recorrer indice o rango\n",
    "for i in range(0,len(lista)):\n",
    "    print(lista[i])\n",
    "\n",
    "print(\"-------\")\n",
    "\n",
    "# Recorrer lista \n",
    "for i in lista:\n",
    "    print(i)\n"
   ]
  },
  {
   "cell_type": "markdown",
   "id": "8ba9d5cb",
   "metadata": {},
   "source": [
    "# While"
   ]
  },
  {
   "cell_type": "code",
   "execution_count": 108,
   "id": "1bb6df83",
   "metadata": {},
   "outputs": [
    {
     "name": "stdout",
     "output_type": "stream",
     "text": [
      "1\n",
      "2\n",
      "3\n",
      "4\n",
      "5\n"
     ]
    }
   ],
   "source": [
    "i = 1\n",
    "\n",
    "while i < 6:\n",
    "    print(i)\n",
    "    # i = i + 1\n",
    "    i += 1\n"
   ]
  },
  {
   "cell_type": "markdown",
   "id": "4ab3990f",
   "metadata": {},
   "source": [
    "# funciones"
   ]
  },
  {
   "cell_type": "code",
   "execution_count": 118,
   "id": "a4278493",
   "metadata": {},
   "outputs": [],
   "source": [
    "def suma(x, y):\n",
    "    resultado = x + y\n",
    "    print(resultado)\n",
    "    resultado2 = x + 2\n",
    "    return resultado, resultado2\n",
    "    \n",
    "def resta(x, y):\n",
    "    resultado = x - y\n",
    "    print(resultado)\n",
    "    return resultado\n"
   ]
  },
  {
   "cell_type": "code",
   "execution_count": 127,
   "id": "e6916869",
   "metadata": {},
   "outputs": [
    {
     "data": {
      "text/plain": [
       "59"
      ]
     },
     "execution_count": 127,
     "metadata": {},
     "output_type": "execute_result"
    }
   ],
   "source": [
    "resultado_suma = suma(1,56)\n",
    "resultado_suma + 2"
   ]
  },
  {
   "cell_type": "code",
   "execution_count": 128,
   "id": "1da2b410",
   "metadata": {},
   "outputs": [
    {
     "data": {
      "text/plain": [
       "-55"
      ]
     },
     "execution_count": 128,
     "metadata": {},
     "output_type": "execute_result"
    }
   ],
   "source": [
    "resta(1,56)"
   ]
  },
  {
   "cell_type": "markdown",
   "id": "998c9155",
   "metadata": {},
   "source": [
    "# Clase"
   ]
  },
  {
   "cell_type": "code",
   "execution_count": 160,
   "id": "a678fb25",
   "metadata": {},
   "outputs": [],
   "source": [
    "class Persona():\n",
    "    def __int__(self, nombre, edad):\n",
    "        self.nombre = nombre\n",
    "        self.edad = edad\n",
    "    \n",
    "    def get_nombre(self):\n",
    "        return self.nombre\n",
    "    \n",
    "    def get_edad(self):\n",
    "        return self.edad\n",
    "    \n",
    "    def set_nombre(self, nombre):\n",
    "        self.nombre = nombre\n",
    "    \n",
    "    def set_edad(self, edad):\n",
    "        self.edad = edad\n",
    "        \n",
    "    def aumentar_un_anio(self):\n",
    "        self.edad += 1"
   ]
  },
  {
   "cell_type": "code",
   "execution_count": 154,
   "id": "750fcafd",
   "metadata": {},
   "outputs": [],
   "source": [
    "david = Persona()"
   ]
  },
  {
   "cell_type": "code",
   "execution_count": 155,
   "id": "63e4d65f",
   "metadata": {},
   "outputs": [],
   "source": [
    "david.set_edad(23)"
   ]
  },
  {
   "cell_type": "code",
   "execution_count": 156,
   "id": "34d9b877",
   "metadata": {},
   "outputs": [
    {
     "data": {
      "text/plain": [
       "23"
      ]
     },
     "execution_count": 156,
     "metadata": {},
     "output_type": "execute_result"
    }
   ],
   "source": [
    "david.get_edad()"
   ]
  },
  {
   "cell_type": "code",
   "execution_count": 157,
   "id": "07cf8eff",
   "metadata": {},
   "outputs": [],
   "source": [
    "david.set_edad(24)"
   ]
  },
  {
   "cell_type": "code",
   "execution_count": 158,
   "id": "d6e95552",
   "metadata": {},
   "outputs": [
    {
     "data": {
      "text/plain": [
       "24"
      ]
     },
     "execution_count": 158,
     "metadata": {},
     "output_type": "execute_result"
    }
   ],
   "source": [
    "david.get_edad()"
   ]
  },
  {
   "cell_type": "code",
   "execution_count": 159,
   "id": "61eb5ab0",
   "metadata": {},
   "outputs": [
    {
     "data": {
      "text/plain": [
       "25"
      ]
     },
     "execution_count": 159,
     "metadata": {},
     "output_type": "execute_result"
    }
   ],
   "source": [
    "david.aumentar_un_anio()\n",
    "david.get_edad()"
   ]
  },
  {
   "cell_type": "code",
   "execution_count": null,
   "id": "b3f0f545",
   "metadata": {},
   "outputs": [],
   "source": []
  }
 ],
 "metadata": {
  "kernelspec": {
   "display_name": "Python 3 (ipykernel)",
   "language": "python",
   "name": "python3"
  },
  "language_info": {
   "codemirror_mode": {
    "name": "ipython",
    "version": 3
   },
   "file_extension": ".py",
   "mimetype": "text/x-python",
   "name": "python",
   "nbconvert_exporter": "python",
   "pygments_lexer": "ipython3",
   "version": "3.9.6"
  }
 },
 "nbformat": 4,
 "nbformat_minor": 5
}
