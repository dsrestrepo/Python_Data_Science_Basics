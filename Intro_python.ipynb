{
  "nbformat": 4,
  "nbformat_minor": 5,
  "metadata": {
    "kernelspec": {
      "display_name": "Python 3 (ipykernel)",
      "language": "python",
      "name": "python3"
    },
    "language_info": {
      "codemirror_mode": {
        "name": "ipython",
        "version": 3
      },
      "file_extension": ".py",
      "mimetype": "text/x-python",
      "name": "python",
      "nbconvert_exporter": "python",
      "pygments_lexer": "ipython3",
      "version": "3.9.6"
    },
    "colab": {
      "name": "Intro_python.ipynb",
      "provenance": [],
      "collapsed_sections": []
    }
  },
  "cells": [
    {
      "cell_type": "markdown",
      "metadata": {
        "id": "125b3f65"
      },
      "source": [
        "# Comentario en markdown"
      ],
      "id": "125b3f65"
    },
    {
      "cell_type": "code",
      "metadata": {
        "id": "41eafae5",
        "outputId": "3c0e1c2c-ebb7-4faf-ff72-111dd0ce2f5d"
      },
      "source": [
        "\"\"\"Comentario de multiples \n",
        "lineas\"\"\" \n",
        "\n",
        "# Comentario en python de una linea\n",
        "\n",
        "# imprimir\n",
        "print(\"este es un print\")"
      ],
      "id": "41eafae5",
      "execution_count": null,
      "outputs": [
        {
          "name": "stdout",
          "output_type": "stream",
          "text": [
            "este es un print\n"
          ]
        }
      ]
    },
    {
      "cell_type": "markdown",
      "metadata": {
        "id": "a1c046f1"
      },
      "source": [
        "# Variables"
      ],
      "id": "a1c046f1"
    },
    {
      "cell_type": "code",
      "metadata": {
        "id": "81dc2f94",
        "outputId": "579b36cd-b078-48c3-a4a1-0e7b8b213056"
      },
      "source": [
        "# entero\n",
        "entero1 = 1\n",
        "entero2 = -234235\n",
        "\n",
        "# decimal\n",
        "float1 = 2.8  \n",
        "float2 = -2432.324\n",
        "\n",
        "# Complejo\n",
        "complejo1 = 1j\n",
        "\n",
        "# String\n",
        "string1 = \"hola\"\n",
        "string2 = '23423'\n",
        "\n",
        "# Booleanos\n",
        "booleano1 = True\n",
        "booleano2 = False\n",
        "\n",
        "# Ver el tipo de variable\n",
        "type(complejo1)\n"
      ],
      "id": "81dc2f94",
      "execution_count": null,
      "outputs": [
        {
          "data": {
            "text/plain": [
              "complex"
            ]
          },
          "execution_count": 53,
          "metadata": {},
          "output_type": "execute_result"
        }
      ]
    },
    {
      "cell_type": "code",
      "metadata": {
        "id": "2356ba3a",
        "outputId": "e50eb2e9-dc62-4dfd-f0d5-a7b0a0447be6"
      },
      "source": [
        "string1 = string1.replace('o', 'u')\n",
        "string1[0]"
      ],
      "id": "2356ba3a",
      "execution_count": null,
      "outputs": [
        {
          "data": {
            "text/plain": [
              "'h'"
            ]
          },
          "execution_count": 104,
          "metadata": {},
          "output_type": "execute_result"
        }
      ]
    },
    {
      "cell_type": "markdown",
      "metadata": {
        "id": "40827c05"
      },
      "source": [
        "# Casting"
      ],
      "id": "40827c05"
    },
    {
      "cell_type": "code",
      "metadata": {
        "id": "93b192da",
        "outputId": "af30fd70-fbf4-428f-d38e-97fffd6b8bbf"
      },
      "source": [
        "# para pasar de un tipo de dato a otro\n",
        "string1 = '234'\n",
        "print(f'la variable es de tipo {type(string1)}')\n",
        "\n",
        "# Pasar a entero:\n",
        "string1 = int(string1)\n",
        "print(f'la variable ahora es de tipo {type(string1)}')\n",
        "\n",
        "# Pasar a decimal:\n",
        "string1 = float(string1)\n",
        "print(f'la variable ahora es de tipo {type(string1)}')\n",
        "\n",
        "# Pasar a string:\n",
        "string1 = str(string1)\n",
        "print(f'la variable ahora es de tipo {type(string1)}')"
      ],
      "id": "93b192da",
      "execution_count": null,
      "outputs": [
        {
          "name": "stdout",
          "output_type": "stream",
          "text": [
            "la variable es de tipo <class 'str'>\n",
            "la variable ahora es de tipo <class 'int'>\n",
            "la variable ahora es de tipo <class 'float'>\n",
            "la variable ahora es de tipo <class 'str'>\n"
          ]
        }
      ]
    },
    {
      "cell_type": "markdown",
      "metadata": {
        "id": "41fce347"
      },
      "source": [
        "# Operaciones aritmeticas"
      ],
      "id": "41fce347"
    },
    {
      "cell_type": "code",
      "metadata": {
        "id": "be0911c6",
        "outputId": "3518c7e2-c78b-4b4e-a20a-a8c075e09513"
      },
      "source": [
        "# Con input podemos solicitar que la persona digite un valor por consola\n",
        "numero1 = int(input('diga un numero: '))\n",
        "numero2 = int(input('diga otro numero: '))\n",
        "\n",
        "# Suma:\n",
        "suma = numero1 + numero2\n",
        "print(f'la suma de {numero1} y {numero2} es {suma}')\n",
        "\n",
        "# Resta:\n",
        "resta = numero1 - numero2\n",
        "print(f'la resta de {numero1} y {numero2} es {resta}')\n",
        "\n",
        "# Multiplicación:\n",
        "multiplicacion = numero1 * numero2\n",
        "print(f'la multiplicacion de {numero1} y {numero2} es {multiplicacion}')\n",
        "\n",
        "# Division:\n",
        "division = numero1 / numero2\n",
        "print(f'la division de {numero1} y {numero2} es {division}')\n",
        "\n",
        "# modulo:\n",
        "modulo2 = numero1 % 2\n",
        "print(f'el modulo entre 2 de {numero1} es {modulo2}')\n",
        "\n",
        "# Potencia\n",
        "potencia = numero1 ** 2\n",
        "print(f'la potencia de {numero1} en base 2 es {potencia}')\n",
        "\n",
        "# Division entera:\n",
        "division_entera = numero1 // numero2\n",
        "print(f'la division entera de {numero1} y {numero2} es {division_entera}')"
      ],
      "id": "be0911c6",
      "execution_count": null,
      "outputs": [
        {
          "name": "stdout",
          "output_type": "stream",
          "text": [
            "diga un numero: 3\n",
            "diga otro numero: 4\n",
            "la suma de 3 y 4 es 7\n",
            "la resta de 3 y 4 es -1\n",
            "la multiplicacion de 3 y 4 es 12\n",
            "la division de 3 y 4 es 0.75\n",
            "el modulo entre 2 de 3 es 1\n",
            "la potencia de 3 en base 2 es 9\n",
            "la division entera de 3 y 4 es 0\n"
          ]
        }
      ]
    },
    {
      "cell_type": "markdown",
      "metadata": {
        "id": "474bafe1"
      },
      "source": [
        "# Operaciones logicas (retornaran un booleano)"
      ],
      "id": "474bafe1"
    },
    {
      "cell_type": "code",
      "metadata": {
        "id": "45af8a51",
        "outputId": "55fb7b7b-5af6-4cc1-f664-3e42bdf1c071"
      },
      "source": [
        "# pedir 2 numeros\n",
        "numero1 = int(input('diga un numero: '))\n",
        "numero2 = int(input('diga otro numero: '))\n",
        "\n",
        "# comparar si dos numeros son iguales:\n",
        "comparacion = numero1 == numero2\n",
        "print(f'la afirmacion {numero1} es igual a {numero2} es {comparacion}')\n",
        "\n",
        "# mayor (>) y mayor o igual (>=):\n",
        "comparacion = numero1 > numero2\n",
        "print(f'la afirmacion {numero1} es mayor a {numero2} es {comparacion}')\n",
        "\n",
        "# menor (<) y menor o igual (<=):\n",
        "comparacion = numero1 < numero2\n",
        "print(f'la afirmacion {numero1} es menor a {numero2} es {comparacion}')\n",
        "\n",
        "\"\"\"Tambien podemos complementr usando operaciones logicas\"\"\"\n",
        "# operacion and:\n",
        "# Se deben cumplir ambas\n",
        "comparacion = numero1 < numero2 and numero1 > 0\n",
        "print(f'la afirmacion {numero1} es menor a {numero2} y {numero1} es positivo es {comparacion}')\n",
        "\n",
        "# operacion or:\n",
        "# Se deben cumplir una\n",
        "comparacion = numero1 < numero2 or numero1 > 0\n",
        "print(f'la afirmacion {numero1} es menor a {numero2} o {numero1} es positivo es {comparacion}')\n",
        "\n",
        "# operacion not\n",
        "comparacion = not(numero1 < numero2 or numero1 > 0)\n",
        "print(f' {comparacion}')"
      ],
      "id": "45af8a51",
      "execution_count": null,
      "outputs": [
        {
          "name": "stdout",
          "output_type": "stream",
          "text": [
            "diga un numero: 3\n",
            "diga otro numero: 4\n",
            "la afirmacion 3 es igual a 4 es False\n",
            "la afirmacion 3 es mayor a 4 es False\n",
            "la afirmacion 3 es menor a 4 es True\n",
            "la afirmacion 3 es menor a 4 y 3 es positivo es True\n",
            "la afirmacion 3 es menor a 4 o 3 es positivo es True\n",
            " False\n"
          ]
        }
      ]
    },
    {
      "cell_type": "markdown",
      "metadata": {
        "id": "dbad5b54"
      },
      "source": [
        "# Condiciones if - else"
      ],
      "id": "dbad5b54"
    },
    {
      "cell_type": "code",
      "metadata": {
        "id": "47e58414",
        "outputId": "415673f3-d4d2-4c41-fa30-b5791ee2fe7f"
      },
      "source": [
        "numero1 = int(input('diga un numero: '))\n",
        "\n",
        "# if\n",
        "if (numero1 > 0):\n",
        "    print(f' el numero {numero1} es positivo')\n",
        "# else if\n",
        "elif numero1 < 0:\n",
        "    print(f' el numero {numero1} es negativo')\n",
        "# else\n",
        "else:\n",
        "    print(f'el numero {numero1} es 0')\n"
      ],
      "id": "47e58414",
      "execution_count": null,
      "outputs": [
        {
          "name": "stdout",
          "output_type": "stream",
          "text": [
            "diga un numero: 3\n",
            " el numero 3 es positivo\n"
          ]
        }
      ]
    },
    {
      "cell_type": "markdown",
      "metadata": {
        "id": "f540dd86"
      },
      "source": [
        "# Listas, arreglos, diccionarios"
      ],
      "id": "f540dd86"
    },
    {
      "cell_type": "code",
      "metadata": {
        "id": "b090611b",
        "outputId": "30865b8b-b051-4cc1-bd19-9dfb862a5765"
      },
      "source": [
        "lista = []\n",
        "# lista de string:\n",
        "lista_strings = [\"esta\", \"es\", \"una\", \"lista\"]\n",
        "# lista de numeros:\n",
        "lista_int = [[1,2,3,4,5,6],\n",
        "             [1,2,3,4,5,5]]\n",
        "# lista de multiples tipos de datos\n",
        "lista = [1,\"hola\", True, 4]\n",
        "\n",
        "# tambien podemos tener tuplas:\n",
        "# Las tuplas son listas con valores no variables\n",
        "tupla1 = (1,2,3,4)\n",
        "# Set (Valores unicos)\n",
        "set1 = {1,2,3,4,4,4,5} \n",
        "\n",
        "# Para ver la lista\n",
        "print(f\"La lista tiene los items: {lista}\")\n",
        "\n",
        "# ver la longitud de la lista (len)\n",
        "print(f\"La lista tiene {len(lista)} items\")\n",
        "\n",
        "# indexar\n",
        "print(f\"en la primera casilla la lista tiene el item: {lista[0]}\")\n",
        "print(f\"en la segunda casilla la lista tiene el item: {lista[1]}\")\n",
        "\n",
        "# insertar por index:\n",
        "lista.insert(1, \"nuevo item\")\n",
        "print(f'la lista ahora es {lista}')\n",
        "\n",
        "# añadir item al final:\n",
        "lista.append(\"nuevo item2\")\n",
        "print(f'la lista ahora es {lista}')"
      ],
      "id": "b090611b",
      "execution_count": null,
      "outputs": [
        {
          "name": "stdout",
          "output_type": "stream",
          "text": [
            "La lista tiene los items: [1, 'hola', True, 4]\n",
            "La lista tiene 4 items\n",
            "en la primera casilla la lista tiene el item: 1\n",
            "en la segunda casilla la lista tiene el item: hola\n",
            "la lista ahora es [1, 'nuevo item', 'hola', True, 4]\n",
            "la lista ahora es [1, 'nuevo item', 'hola', True, 4, 'nuevo item2']\n"
          ]
        }
      ]
    },
    {
      "cell_type": "code",
      "metadata": {
        "id": "41a5929b",
        "outputId": "ba221796-88e6-417e-f42f-e9579b593d58"
      },
      "source": [
        "lista_int[1][5]"
      ],
      "id": "41a5929b",
      "execution_count": null,
      "outputs": [
        {
          "data": {
            "text/plain": [
              "5"
            ]
          },
          "execution_count": 75,
          "metadata": {},
          "output_type": "execute_result"
        }
      ]
    },
    {
      "cell_type": "markdown",
      "metadata": {
        "id": "a3981b02"
      },
      "source": [
        "# Diccionarios"
      ],
      "id": "a3981b02"
    },
    {
      "cell_type": "code",
      "metadata": {
        "id": "9094fb56",
        "outputId": "fe441329-295e-4c81-edbe-556c3dd28e19"
      },
      "source": [
        "diccionario = {\n",
        "  \"personas\": ['David','Andrea'],\n",
        "  \"clase\": \"data science\",\n",
        "  \"año\": 2021\n",
        "}\n",
        "\n",
        "# imprimir\n",
        "print(f\"el diccionario tiene los items: {diccionario}\")\n",
        "\n",
        "# indexar\n",
        "print(f'el diccionario en personas tiene a {diccionario[\"personas\"]} ')"
      ],
      "id": "9094fb56",
      "execution_count": null,
      "outputs": [
        {
          "name": "stdout",
          "output_type": "stream",
          "text": [
            "el diccionario tiene los items: {'personas': ['David', 'Andrea'], 'clase': 'data science', 'año': 2021}\n",
            "el diccionario en personas tiene a ['David', 'Andrea'] \n"
          ]
        }
      ]
    },
    {
      "cell_type": "markdown",
      "metadata": {
        "id": "1a0de610"
      },
      "source": [
        "# Foor loop"
      ],
      "id": "1a0de610"
    },
    {
      "cell_type": "code",
      "metadata": {
        "colab": {
          "base_uri": "https://localhost:8080/"
        },
        "id": "7825eda7",
        "outputId": "eee82c3d-d143-4df7-88ec-1bd93db96f7b"
      },
      "source": [
        "# Cear ciclo for con un rango de numeros\n",
        "# De 0 a 9 en este caso\n",
        "for i in range(0,10):\n",
        "    print(i)\n",
        "\n",
        "print(\"-------\")\n",
        "\n",
        "# Cear ciclo for con base a la longitud de una lista\n",
        "lista = [\"hola\", \"como\", \"estas\"] # lista\n",
        "# Recorrer indice o rango\n",
        "for i in range(0,len(lista)):\n",
        "    print(lista[i])\n",
        "\n",
        "print(\"-------\")\n",
        "\n",
        "# Recorrer lista con cilco for\n",
        "for i in lista:\n",
        "    print(i)\n"
      ],
      "id": "7825eda7",
      "execution_count": 1,
      "outputs": [
        {
          "output_type": "stream",
          "name": "stdout",
          "text": [
            "0\n",
            "1\n",
            "2\n",
            "3\n",
            "4\n",
            "5\n",
            "6\n",
            "7\n",
            "8\n",
            "9\n",
            "-------\n",
            "hola\n",
            "como\n",
            "estas\n",
            "-------\n",
            "hola\n",
            "como\n",
            "estas\n"
          ]
        }
      ]
    },
    {
      "cell_type": "markdown",
      "metadata": {
        "id": "8ba9d5cb"
      },
      "source": [
        "# While"
      ],
      "id": "8ba9d5cb"
    },
    {
      "cell_type": "code",
      "metadata": {
        "id": "1bb6df83",
        "outputId": "b4c09a49-3eb2-432f-e1cc-8539251a97bb"
      },
      "source": [
        "i = 1\n",
        "\n",
        "# mientras se cumpla condicion (i < 6 en este caso):\n",
        "while i < 6:\n",
        "    # imprima i\n",
        "    print(i)\n",
        "    # Modificamos i\n",
        "    # i = i + 1\n",
        "    i += 1\n"
      ],
      "id": "1bb6df83",
      "execution_count": null,
      "outputs": [
        {
          "name": "stdout",
          "output_type": "stream",
          "text": [
            "1\n",
            "2\n",
            "3\n",
            "4\n",
            "5\n"
          ]
        }
      ]
    },
    {
      "cell_type": "markdown",
      "metadata": {
        "id": "4ab3990f"
      },
      "source": [
        "# funciones"
      ],
      "id": "4ab3990f"
    },
    {
      "cell_type": "code",
      "metadata": {
        "id": "a4278493"
      },
      "source": [
        "# Funcion que hace suma\n",
        "def suma(x, y):\n",
        "    resultado = x + y\n",
        "    print(resultado)\n",
        "    resultado2 = x + 2\n",
        "    # Retornar dos resultados\n",
        "    return resultado, resultado2\n",
        "    \n",
        "# funcion que hace resta\n",
        "def resta(x, y):\n",
        "    resultado = x - y\n",
        "    print(resultado)\n",
        "    return resultado\n"
      ],
      "id": "a4278493",
      "execution_count": 2,
      "outputs": []
    },
    {
      "cell_type": "code",
      "metadata": {
        "colab": {
          "base_uri": "https://localhost:8080/"
        },
        "id": "e6916869",
        "outputId": "76d4024f-eac8-424a-a961-3dec0ca4abb1"
      },
      "source": [
        "# probar la primera función y guardar los resultados en resultado_suma y resuktado_x2 \n",
        "resultado_suma, resuktado_x2 = suma(1,56)"
      ],
      "id": "e6916869",
      "execution_count": 5,
      "outputs": [
        {
          "output_type": "stream",
          "name": "stdout",
          "text": [
            "57\n"
          ]
        }
      ]
    },
    {
      "cell_type": "code",
      "metadata": {
        "id": "1da2b410",
        "outputId": "f270236d-076a-4ff8-cc24-f7a967cd75e8"
      },
      "source": [
        "# Probar la función de resta\n",
        "resta(1,56)"
      ],
      "id": "1da2b410",
      "execution_count": null,
      "outputs": [
        {
          "data": {
            "text/plain": [
              "-55"
            ]
          },
          "execution_count": 128,
          "metadata": {},
          "output_type": "execute_result"
        }
      ]
    },
    {
      "cell_type": "markdown",
      "metadata": {
        "id": "998c9155"
      },
      "source": [
        "# Clase"
      ],
      "id": "998c9155"
    },
    {
      "cell_type": "code",
      "metadata": {
        "id": "a678fb25"
      },
      "source": [
        "# Clase Persona\n",
        "class Persona:\n",
        "    # Constructor\n",
        "    def __init__(self,nombre,edad):\n",
        "        self.nombre = nombre\n",
        "        self.edad = edad\n",
        "        \n",
        "    # Getter\n",
        "    def get_nombre(self):\n",
        "        return self.nombre\n",
        "    \n",
        "    def get_edad(self):\n",
        "        return self.edad\n",
        "    # Setter\n",
        "    def set_nombre(self, nombre):\n",
        "        self.nombre = nombre\n",
        "    \n",
        "    def set_edad(self, edad):\n",
        "        self.edad = edad\n",
        "    \n",
        "    # Metodo extra\n",
        "    def aumentar_un_anio(self):\n",
        "        self.edad += 1"
      ],
      "id": "a678fb25",
      "execution_count": 18,
      "outputs": []
    },
    {
      "cell_type": "code",
      "metadata": {
        "colab": {
          "base_uri": "https://localhost:8080/"
        },
        "id": "750fcafd",
        "outputId": "0c8f43ab-6e13-4254-8e9c-1f4b23f7ff7d"
      },
      "source": [
        "# Crear instancia de persona\n",
        "david = Persona(\"David\", 22)\n",
        "print(f'la clase persona tiene nombre: {david.get_nombre()} y edad: {david.get_edad()}')"
      ],
      "id": "750fcafd",
      "execution_count": 23,
      "outputs": [
        {
          "output_type": "stream",
          "name": "stdout",
          "text": [
            "la clase persona tiene nombre: David y edad: 22\n"
          ]
        }
      ]
    },
    {
      "cell_type": "code",
      "metadata": {
        "colab": {
          "base_uri": "https://localhost:8080/"
        },
        "id": "63e4d65f",
        "outputId": "3eb87810-424b-4e84-a94f-0dfe76a9a918"
      },
      "source": [
        "david.set_edad(23)\n",
        "print(f'la clase persona tiene nombre: {david.get_nombre()} y edad: {david.get_edad()}')"
      ],
      "id": "63e4d65f",
      "execution_count": 24,
      "outputs": [
        {
          "output_type": "stream",
          "name": "stdout",
          "text": [
            "la clase persona tiene nombre: David y edad: 23\n"
          ]
        }
      ]
    },
    {
      "cell_type": "code",
      "metadata": {
        "colab": {
          "base_uri": "https://localhost:8080/"
        },
        "id": "34d9b877",
        "outputId": "1465c160-131f-4d19-e994-d168c8e4cda4"
      },
      "source": [
        "david.aumentar_un_anio()\n",
        "print(f'la clase persona ahora tiene edad: {david.get_edad()}')"
      ],
      "id": "34d9b877",
      "execution_count": 25,
      "outputs": [
        {
          "output_type": "stream",
          "name": "stdout",
          "text": [
            "la clase persona ahora tiene edad: 24\n"
          ]
        }
      ]
    },
    {
      "cell_type": "code",
      "metadata": {
        "id": "07cf8eff"
      },
      "source": [
        ""
      ],
      "id": "07cf8eff",
      "execution_count": 25,
      "outputs": []
    },
    {
      "cell_type": "code",
      "metadata": {
        "id": "d6e95552"
      },
      "source": [
        ""
      ],
      "id": "d6e95552",
      "execution_count": 25,
      "outputs": []
    },
    {
      "cell_type": "code",
      "metadata": {
        "id": "61eb5ab0"
      },
      "source": [
        ""
      ],
      "id": "61eb5ab0",
      "execution_count": 25,
      "outputs": []
    },
    {
      "cell_type": "code",
      "metadata": {
        "id": "b3f0f545"
      },
      "source": [
        ""
      ],
      "id": "b3f0f545",
      "execution_count": null,
      "outputs": []
    }
  ]
}